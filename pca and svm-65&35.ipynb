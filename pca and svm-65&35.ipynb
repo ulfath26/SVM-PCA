{
 "cells": [
  {
   "cell_type": "code",
   "execution_count": 1,
   "id": "experienced-aerospace",
   "metadata": {},
   "outputs": [
    {
     "data": {
      "text/html": [
       "<div>\n",
       "<style scoped>\n",
       "    .dataframe tbody tr th:only-of-type {\n",
       "        vertical-align: middle;\n",
       "    }\n",
       "\n",
       "    .dataframe tbody tr th {\n",
       "        vertical-align: top;\n",
       "    }\n",
       "\n",
       "    .dataframe thead th {\n",
       "        text-align: right;\n",
       "    }\n",
       "</style>\n",
       "<table border=\"1\" class=\"dataframe\">\n",
       "  <thead>\n",
       "    <tr style=\"text-align: right;\">\n",
       "      <th></th>\n",
       "      <th>ID</th>\n",
       "      <th>Energy_kcal</th>\n",
       "      <th>Protein_g</th>\n",
       "      <th>Fat_g</th>\n",
       "      <th>Carb_g</th>\n",
       "      <th>Sugar_g</th>\n",
       "      <th>Fiber_g</th>\n",
       "      <th>BMI</th>\n",
       "      <th>Body Fat</th>\n",
       "      <th>VitB12_mcg</th>\n",
       "      <th>...</th>\n",
       "      <th>Niacin_USRDA</th>\n",
       "      <th>Riboflavin_USRDA</th>\n",
       "      <th>Thiamin_USRDA</th>\n",
       "      <th>Calcium_USRDA</th>\n",
       "      <th>Copper_USRDA</th>\n",
       "      <th>Magnesium_USRDA</th>\n",
       "      <th>Phosphorus_USRDA</th>\n",
       "      <th>Selenium_USRDA</th>\n",
       "      <th>Zinc_USRDA</th>\n",
       "      <th>Levels</th>\n",
       "    </tr>\n",
       "  </thead>\n",
       "  <tbody>\n",
       "    <tr>\n",
       "      <th>0</th>\n",
       "      <td>1001</td>\n",
       "      <td>717</td>\n",
       "      <td>0.85</td>\n",
       "      <td>81.11</td>\n",
       "      <td>0.06</td>\n",
       "      <td>0.06</td>\n",
       "      <td>0.0</td>\n",
       "      <td>684</td>\n",
       "      <td>0.003</td>\n",
       "      <td>0.17</td>\n",
       "      <td>...</td>\n",
       "      <td>0.002625</td>\n",
       "      <td>0.026154</td>\n",
       "      <td>0.004167</td>\n",
       "      <td>0.020000</td>\n",
       "      <td>0.000000</td>\n",
       "      <td>0.004762</td>\n",
       "      <td>0.034286</td>\n",
       "      <td>0.018182</td>\n",
       "      <td>0.008182</td>\n",
       "      <td>1</td>\n",
       "    </tr>\n",
       "    <tr>\n",
       "      <th>1</th>\n",
       "      <td>1002</td>\n",
       "      <td>717</td>\n",
       "      <td>0.85</td>\n",
       "      <td>81.11</td>\n",
       "      <td>0.06</td>\n",
       "      <td>0.06</td>\n",
       "      <td>0.0</td>\n",
       "      <td>684</td>\n",
       "      <td>0.003</td>\n",
       "      <td>0.13</td>\n",
       "      <td>...</td>\n",
       "      <td>0.002625</td>\n",
       "      <td>0.026154</td>\n",
       "      <td>0.004167</td>\n",
       "      <td>0.020000</td>\n",
       "      <td>0.000018</td>\n",
       "      <td>0.004762</td>\n",
       "      <td>0.032857</td>\n",
       "      <td>0.018182</td>\n",
       "      <td>0.004545</td>\n",
       "      <td>1</td>\n",
       "    </tr>\n",
       "    <tr>\n",
       "      <th>2</th>\n",
       "      <td>1003</td>\n",
       "      <td>876</td>\n",
       "      <td>0.28</td>\n",
       "      <td>99.48</td>\n",
       "      <td>0.00</td>\n",
       "      <td>0.00</td>\n",
       "      <td>0.0</td>\n",
       "      <td>840</td>\n",
       "      <td>0.001</td>\n",
       "      <td>0.01</td>\n",
       "      <td>...</td>\n",
       "      <td>0.000188</td>\n",
       "      <td>0.003846</td>\n",
       "      <td>0.000833</td>\n",
       "      <td>0.003333</td>\n",
       "      <td>0.000001</td>\n",
       "      <td>0.000000</td>\n",
       "      <td>0.004286</td>\n",
       "      <td>0.000000</td>\n",
       "      <td>0.000909</td>\n",
       "      <td>1</td>\n",
       "    </tr>\n",
       "    <tr>\n",
       "      <th>3</th>\n",
       "      <td>1004</td>\n",
       "      <td>353</td>\n",
       "      <td>21.40</td>\n",
       "      <td>28.74</td>\n",
       "      <td>2.34</td>\n",
       "      <td>0.50</td>\n",
       "      <td>0.0</td>\n",
       "      <td>198</td>\n",
       "      <td>0.166</td>\n",
       "      <td>1.22</td>\n",
       "      <td>...</td>\n",
       "      <td>0.063500</td>\n",
       "      <td>0.293846</td>\n",
       "      <td>0.024167</td>\n",
       "      <td>0.440000</td>\n",
       "      <td>0.000044</td>\n",
       "      <td>0.054762</td>\n",
       "      <td>0.552857</td>\n",
       "      <td>0.263636</td>\n",
       "      <td>0.241818</td>\n",
       "      <td>1</td>\n",
       "    </tr>\n",
       "    <tr>\n",
       "      <th>4</th>\n",
       "      <td>1005</td>\n",
       "      <td>371</td>\n",
       "      <td>23.24</td>\n",
       "      <td>29.68</td>\n",
       "      <td>2.79</td>\n",
       "      <td>0.51</td>\n",
       "      <td>0.0</td>\n",
       "      <td>292</td>\n",
       "      <td>0.065</td>\n",
       "      <td>1.26</td>\n",
       "      <td>...</td>\n",
       "      <td>0.007375</td>\n",
       "      <td>0.270000</td>\n",
       "      <td>0.011667</td>\n",
       "      <td>0.561667</td>\n",
       "      <td>0.000027</td>\n",
       "      <td>0.057143</td>\n",
       "      <td>0.644286</td>\n",
       "      <td>0.263636</td>\n",
       "      <td>0.236364</td>\n",
       "      <td>1</td>\n",
       "    </tr>\n",
       "  </tbody>\n",
       "</table>\n",
       "<p>5 rows × 40 columns</p>\n",
       "</div>"
      ],
      "text/plain": [
       "     ID  Energy_kcal  Protein_g  Fat_g  Carb_g  Sugar_g  Fiber_g  BMI  \\\n",
       "0  1001          717       0.85  81.11    0.06     0.06      0.0  684   \n",
       "1  1002          717       0.85  81.11    0.06     0.06      0.0  684   \n",
       "2  1003          876       0.28  99.48    0.00     0.00      0.0  840   \n",
       "3  1004          353      21.40  28.74    2.34     0.50      0.0  198   \n",
       "4  1005          371      23.24  29.68    2.79     0.51      0.0  292   \n",
       "\n",
       "   Body Fat  VitB12_mcg  ...  Niacin_USRDA  Riboflavin_USRDA  Thiamin_USRDA  \\\n",
       "0     0.003        0.17  ...      0.002625          0.026154       0.004167   \n",
       "1     0.003        0.13  ...      0.002625          0.026154       0.004167   \n",
       "2     0.001        0.01  ...      0.000188          0.003846       0.000833   \n",
       "3     0.166        1.22  ...      0.063500          0.293846       0.024167   \n",
       "4     0.065        1.26  ...      0.007375          0.270000       0.011667   \n",
       "\n",
       "   Calcium_USRDA  Copper_USRDA  Magnesium_USRDA  Phosphorus_USRDA  \\\n",
       "0       0.020000      0.000000         0.004762          0.034286   \n",
       "1       0.020000      0.000018         0.004762          0.032857   \n",
       "2       0.003333      0.000001         0.000000          0.004286   \n",
       "3       0.440000      0.000044         0.054762          0.552857   \n",
       "4       0.561667      0.000027         0.057143          0.644286   \n",
       "\n",
       "   Selenium_USRDA  Zinc_USRDA  Levels  \n",
       "0        0.018182    0.008182       1  \n",
       "1        0.018182    0.004545       1  \n",
       "2        0.000000    0.000909       1  \n",
       "3        0.263636    0.241818       1  \n",
       "4        0.263636    0.236364       1  \n",
       "\n",
       "[5 rows x 40 columns]"
      ]
     },
     "execution_count": 1,
     "metadata": {},
     "output_type": "execute_result"
    }
   ],
   "source": [
    "import pandas as pd\n",
    "# Loading Data\n",
    "data=pd.read_csv(r\"H:\\unsupervised-predictions-master\\vit.csv\")\n",
    "# load dataset into Pandas DataFrame\n",
    "data.head()"
   ]
  },
  {
   "cell_type": "code",
   "execution_count": 2,
   "id": "threaded-boundary",
   "metadata": {},
   "outputs": [],
   "source": [
    "\n",
    "X=data.drop('Levels',axis=1)\n",
    "y=data['Levels']"
   ]
  },
  {
   "cell_type": "code",
   "execution_count": 3,
   "id": "activated-battlefield",
   "metadata": {},
   "outputs": [],
   "source": [
    "# Standardizing the features\n",
    "from sklearn.preprocessing import StandardScaler\n",
    "X = StandardScaler().fit_transform(X)"
   ]
  },
  {
   "cell_type": "code",
   "execution_count": 4,
   "id": "precious-token",
   "metadata": {},
   "outputs": [],
   "source": [
    "from sklearn.decomposition import PCA\n",
    "pca = PCA(n_components=8)\n",
    "principalComponents = pca.fit_transform(X)\n",
    "principalDf = pd.DataFrame(data = principalComponents\n",
    "             , columns = ['principal component 1', 'principal component 2','principal component 3','principal component 4','principal component 5', 'principal component 6','principal component 7','principal component 8',])\n"
   ]
  },
  {
   "cell_type": "code",
   "execution_count": 5,
   "id": "intelligent-packaging",
   "metadata": {},
   "outputs": [],
   "source": [
    "finalDf = pd.concat([principalDf, data[['Levels']]], axis = 1)"
   ]
  },
  {
   "cell_type": "code",
   "execution_count": 6,
   "id": "reliable-hardwood",
   "metadata": {},
   "outputs": [
    {
     "data": {
      "text/plain": [
       "array([0.25304587, 0.10550742, 0.08792296, 0.07519004, 0.06107178,\n",
       "       0.05397614, 0.04471897, 0.04238677])"
      ]
     },
     "execution_count": 6,
     "metadata": {},
     "output_type": "execute_result"
    }
   ],
   "source": [
    "pca.explained_variance_ratio_\n"
   ]
  },
  {
   "cell_type": "code",
   "execution_count": 7,
   "id": "imported-quick",
   "metadata": {},
   "outputs": [],
   "source": [
    "from sklearn.model_selection import train_test_split\n",
    "xtrain,xtest,ytrain,ytest=train_test_split(X,y,train_size=0.35,random_state=0)\n"
   ]
  },
  {
   "cell_type": "code",
   "execution_count": 8,
   "id": "structured-shareware",
   "metadata": {},
   "outputs": [
    {
     "data": {
      "text/plain": [
       "StandardScaler()"
      ]
     },
     "execution_count": 8,
     "metadata": {},
     "output_type": "execute_result"
    }
   ],
   "source": [
    "from sklearn.preprocessing import StandardScaler\n",
    "scaler = StandardScaler()\n",
    "# Fit on training set only.\n",
    "scaler.fit(xtrain)\n",
    "\n"
   ]
  },
  {
   "cell_type": "code",
   "execution_count": 9,
   "id": "raised-living",
   "metadata": {},
   "outputs": [],
   "source": [
    "from sklearn.decomposition import PCA\n",
    "# Make an instance of the Model\n",
    "pca = PCA(.95)"
   ]
  },
  {
   "cell_type": "code",
   "execution_count": 10,
   "id": "wooden-access",
   "metadata": {},
   "outputs": [
    {
     "data": {
      "text/plain": [
       "PCA(n_components=0.95)"
      ]
     },
     "execution_count": 10,
     "metadata": {},
     "output_type": "execute_result"
    }
   ],
   "source": [
    "pca.fit(xtrain)"
   ]
  },
  {
   "cell_type": "code",
   "execution_count": 11,
   "id": "seventh-pipeline",
   "metadata": {},
   "outputs": [
    {
     "data": {
      "text/plain": [
       "17"
      ]
     },
     "execution_count": 11,
     "metadata": {},
     "output_type": "execute_result"
    }
   ],
   "source": [
    "pca.n_components_"
   ]
  },
  {
   "cell_type": "code",
   "execution_count": 12,
   "id": "alert-welding",
   "metadata": {},
   "outputs": [],
   "source": [
    "xtrain = pca.transform(xtrain)\n",
    "xtest = pca.transform(xtest)"
   ]
  },
  {
   "cell_type": "code",
   "execution_count": 13,
   "id": "other-found",
   "metadata": {},
   "outputs": [
    {
     "data": {
      "text/plain": [
       "SVR()"
      ]
     },
     "execution_count": 13,
     "metadata": {},
     "output_type": "execute_result"
    }
   ],
   "source": [
    "from sklearn.svm import SVR\n",
    "regressor = SVR(kernel = 'rbf')\n",
    "regressor.fit(X, y)"
   ]
  },
  {
   "cell_type": "code",
   "execution_count": 14,
   "id": "invisible-voice",
   "metadata": {},
   "outputs": [],
   "source": [
    " \n",
    "regressor.fit(xtrain, ytrain)\n",
    "y_pred = regressor.predict(xtest)"
   ]
  },
  {
   "cell_type": "code",
   "execution_count": 15,
   "id": "prerequisite-aruba",
   "metadata": {},
   "outputs": [],
   "source": [
    "import numpy as np\n",
    "baseline = np.linspace(int(round(ytest.mean())), int(round(ytest.mean())), len(ytest))"
   ]
  },
  {
   "cell_type": "code",
   "execution_count": 16,
   "id": "confirmed-letters",
   "metadata": {},
   "outputs": [],
   "source": [
    "y_pred_int = pd.Series(y_pred).apply(lambda x: int(round(x)))"
   ]
  },
  {
   "cell_type": "code",
   "execution_count": 17,
   "id": "computational-creator",
   "metadata": {},
   "outputs": [
    {
     "name": "stdout",
     "output_type": "stream",
     "text": [
      "Model Mean Absolute Error:  0.10603355944305605\n",
      "Baseline Mean squared Absolute Error:  1.0016065690824705\n",
      "Accuracy Score:  0.8989646554801857\n"
     ]
    }
   ],
   "source": [
    "# Evaluate the model performance\n",
    "from sklearn.metrics import mean_absolute_error, mean_squared_error, accuracy_score\n",
    "\n",
    "print('Model Mean Absolute Error: ', mean_absolute_error(y_pred_int, ytest))\n",
    "print('Baseline Mean squared Absolute Error: ', mean_absolute_error(baseline, ytest))\n",
    "print('Accuracy Score: ', accuracy_score(y_pred_int, ytest))"
   ]
  },
  {
   "cell_type": "code",
   "execution_count": null,
   "id": "adjustable-subscriber",
   "metadata": {},
   "outputs": [],
   "source": []
  }
 ],
 "metadata": {
  "kernelspec": {
   "display_name": "Python 3",
   "language": "python",
   "name": "python3"
  },
  "language_info": {
   "codemirror_mode": {
    "name": "ipython",
    "version": 3
   },
   "file_extension": ".py",
   "mimetype": "text/x-python",
   "name": "python",
   "nbconvert_exporter": "python",
   "pygments_lexer": "ipython3",
   "version": "3.9.2"
  }
 },
 "nbformat": 4,
 "nbformat_minor": 5
}
